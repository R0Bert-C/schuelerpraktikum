{
 "cells": [
  {
   "cell_type": "markdown",
   "metadata": {},
   "source": [
    "# Willkommen"
   ]
  },
  {
   "cell_type": "markdown",
   "metadata": {},
   "source": [
    "Dieses Jupyter-Notebook soll dir die Möglichkeit geben einfach Daten aus den neusten Klimamodellen (CMIP6) darzustellen.\n",
    "Dieses Notebook basiert auf Python. Um ein Feld in diesem Notebook auszuführen, musst du __SHIFT+ENTER__ drücken."
   ]
  },
  {
   "cell_type": "code",
   "execution_count": null,
   "metadata": {},
   "outputs": [],
   "source": [
    "import funktionen_praktikum as fp"
   ]
  },
  {
   "cell_type": "markdown",
   "metadata": {},
   "source": [
    "Hier haben wir die Möglichkeit auf die neusten CMIP6 Modelle zuzugreifen.\n",
    "Mit dem folgenden Befehl kannst du sehen was für Daten verfügbar sind."
   ]
  },
  {
   "cell_type": "code",
   "execution_count": null,
   "metadata": {},
   "outputs": [],
   "source": [
    "fp.Was_gibt_es()"
   ]
  },
  {
   "cell_type": "markdown",
   "metadata": {},
   "source": [
    "Im folgenden kannst du dir die komplette Liste aller verfügrbaren Variablen ausgeben lassen. Aber nicht erschrecken. Es sind sehr viele."
   ]
  },
  {
   "cell_type": "code",
   "execution_count": null,
   "metadata": {},
   "outputs": [],
   "source": [
    "fp.Liste_aller_Variablen()"
   ]
  },
  {
   "cell_type": "markdown",
   "metadata": {},
   "source": [
    "Hier habe ich eine Auswahl für dich vorbereitet:"
   ]
  },
  {
   "cell_type": "code",
   "execution_count": null,
   "metadata": {},
   "outputs": [],
   "source": [
    "fp.Uebersicht_ausgewaehlter_Variablen()"
   ]
  },
  {
   "cell_type": "markdown",
   "metadata": {},
   "source": [
    "Welche Variable möchtest du dir gerne genauer angucken? (Ersetze xxxx)"
   ]
  },
  {
   "cell_type": "code",
   "execution_count": null,
   "metadata": {},
   "outputs": [],
   "source": [
    "Variable='xxx'"
   ]
  },
  {
   "cell_type": "markdown",
   "metadata": {},
   "source": [
    "Welche Szenarien möchtest du dir angucken?\\\n",
    "_historical_ sind Klimasimulation von 1850 bis 2014.\\\n",
    "_SSP2-4.5_ und _SSP5-8.5_ sind Klimaprojektionen von 2014 bis 2100. Sie stellen unterschiedliche Scenarien dar.\\\n",
    "Wenn du dir den CO2-Gehalt oder Temperaturverlauf anguckst, findest du vielleicht heraus, für was die Szenarien stehen."
   ]
  },
  {
   "cell_type": "code",
   "execution_count": null,
   "metadata": {},
   "outputs": [],
   "source": [
    "Szenarien = ['historical', 'ssp245', 'ssp585']\n",
    "start=1900\n",
    "end=2100"
   ]
  },
  {
   "cell_type": "code",
   "execution_count": null,
   "metadata": {},
   "outputs": [],
   "source": [
    "fp.plot_verlauf_von(Variable,Szenarien,start,end)"
   ]
  },
  {
   "cell_type": "markdown",
   "metadata": {},
   "source": [
    "Um eine Abbildung zu speichern, kannst du das Bild per Drag & Drop auf deinen Desktop ziehen."
   ]
  },
  {
   "cell_type": "markdown",
   "metadata": {},
   "source": [
    "Du kannst dir nicht nur den mittleren Verlauf angucken, sonder auch wie es bei einem Modell Global aussieht."
   ]
  },
  {
   "cell_type": "code",
   "execution_count": null,
   "metadata": {},
   "outputs": [],
   "source": [
    "Variable='xxx'\n",
    "Szenario='historical'\n",
    "Klimatologie_um=2000\n",
    "fp.plot_30_Jahre_Klimatologie_von(Variable,Scenario,Klimatologie_um)"
   ]
  },
  {
   "cell_type": "markdown",
   "metadata": {},
   "source": [
    "Und hier der Vergleich zwischen zwei Szenarien."
   ]
  },
  {
   "cell_type": "code",
   "execution_count": null,
   "metadata": {},
   "outputs": [],
   "source": [
    "Variable='xxx'\n",
    "Szenario_1='historical'\n",
    "Szenario_2='ssp585'\n",
    "Klimatologie_um_1=2000\n",
    "Klimatologie_um_2=2085\n",
    "fp.plot_veraenderung_der_Klimatologie_von(Variable,Szenario_1,Szenario_2,\n",
    "                                          Klimatologie_um_1,Klimatologie_um_2)"
   ]
  },
  {
   "cell_type": "code",
   "execution_count": null,
   "metadata": {},
   "outputs": [],
   "source": []
  }
 ],
 "metadata": {
  "kernelspec": {
   "display_name": "Python 3",
   "language": "python",
   "name": "python3"
  },
  "language_info": {
   "codemirror_mode": {
    "name": "ipython",
    "version": 3
   },
   "file_extension": ".py",
   "mimetype": "text/x-python",
   "name": "python",
   "nbconvert_exporter": "python",
   "pygments_lexer": "ipython3",
   "version": "3.8.5"
  }
 },
 "nbformat": 4,
 "nbformat_minor": 4
}
