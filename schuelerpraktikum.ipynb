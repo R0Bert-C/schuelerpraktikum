{
 "cells": [
  {
   "cell_type": "markdown",
   "metadata": {},
   "source": [
    "# Willkommen"
   ]
  },
  {
   "cell_type": "markdown",
   "metadata": {},
   "source": [
    "Dieses Jupyter-Notebook soll dir die Möglichkeit geben einfach Daten aus den neusten Klimamodellen (CMIP6) darzustellen.\n",
    "Dieses Notebook basiert auf Python. Um ein Feld in diesem Notebook auszuführen, musst du __SHIFT+ENTER__ drücken."
   ]
  },
  {
   "cell_type": "code",
   "execution_count": null,
   "metadata": {},
   "outputs": [],
   "source": [
    "import funktionen_praktikum as fp"
   ]
  },
  {
   "cell_type": "markdown",
   "metadata": {},
   "source": [
    "Hier haben wir die Möglichkeit auf die neusten CMIP6 Modelle zuzugreifen.\n",
    "Mit dem folgenden Befehl kannst du sehen was für Daten verfügbar sind."
   ]
  },
  {
   "cell_type": "code",
   "execution_count": null,
   "metadata": {},
   "outputs": [],
   "source": [
    "fp.Was_gibt_es()"
   ]
  },
  {
   "cell_type": "markdown",
   "metadata": {},
   "source": [
    "Im folgenden kannst du dir die komplette Liste aller verfügrbaren Variablen ausgeben lassen. Aber nicht erschrecken. Es sind sehr viele."
   ]
  },
  {
   "cell_type": "code",
   "execution_count": null,
   "metadata": {},
   "outputs": [],
   "source": [
    "fp.Liste_aller_Variablen()"
   ]
  },
  {
   "cell_type": "markdown",
   "metadata": {},
   "source": [
    "Hier habe ich eine Auswahl für dich vorbereitet:"
   ]
  },
  {
   "cell_type": "code",
   "execution_count": null,
   "metadata": {},
   "outputs": [],
   "source": [
    "fp.Uebersicht_ausgewaehlter_Variablen()"
   ]
  },
  {
   "cell_type": "markdown",
   "metadata": {},
   "source": [
    "Welche Variable möchtest du dir gerne genauer angucken? (Ersetze xxxx)"
   ]
  },
  {
   "cell_type": "code",
   "execution_count": null,
   "metadata": {},
   "outputs": [],
   "source": [
    "Variable='tas'"
   ]
  },
  {
   "cell_type": "markdown",
   "metadata": {},
   "source": [
    "Welche Scenarien möchtest du dir angucken?\\\n",
    "_historical_ sind Klimasimulation von 1850 bis 2014.\\\n",
    "_SSP2-4.5_ und _SSP5-8.5_ sind Klimaprojectionen von 2014 bis 2100. Sie stellen unterschiedliche Scenarien dar.\n",
    "\n",
    "__SSP2-4.5:__\n",
    "\n",
    "__SSP5-8.5__\n"
   ]
  },
  {
   "cell_type": "code",
   "execution_count": null,
   "metadata": {},
   "outputs": [],
   "source": [
    "Scenarien = ['historical', 'ssp245', 'ssp585']\n",
    "start=1900\n",
    "end=2100"
   ]
  },
  {
   "cell_type": "code",
   "execution_count": null,
   "metadata": {},
   "outputs": [],
   "source": [
    "fp.plot_verlauf_von(Variable,Scenarien,start,end)"
   ]
  },
  {
   "cell_type": "markdown",
   "metadata": {},
   "source": [
    "Um eine Abbildung zu speichern, kannst du das Bild per Drag & Drop auf deinen Desktop ziehen."
   ]
  },
  {
   "cell_type": "code",
   "execution_count": null,
   "metadata": {},
   "outputs": [],
   "source": [
    "Variable='tas'\n",
    "Scenario='historical'\n",
    "Klimatologie_um=2000\n",
    "fp.plot_30_Jahre_Klimatologie_von(Variable,Scenario,Klimatologie_um)"
   ]
  },
  {
   "cell_type": "code",
   "execution_count": null,
   "metadata": {},
   "outputs": [],
   "source": [
    "Variable='tas'\n",
    "Scenario_1='historical'\n",
    "Scenario_2='ssp585'\n",
    "Klimatologie_um_1=2000\n",
    "Klimatologie_um_2=2085\n",
    "fp.plot_veraenderung_der_Klimatologie_von(Variable,Scenario_1,Scenario_2,\n",
    "                                          Klimatologie_um_1,Klimatologie_um_2)"
   ]
  },
  {
   "cell_type": "code",
   "execution_count": null,
   "metadata": {},
   "outputs": [],
   "source": []
  }
 ],
 "metadata": {
  "kernelspec": {
   "display_name": "Python 3",
   "language": "python",
   "name": "python3"
  },
  "language_info": {
   "codemirror_mode": {
    "name": "ipython",
    "version": 3
   },
   "file_extension": ".py",
   "mimetype": "text/x-python",
   "name": "python",
   "nbconvert_exporter": "python",
   "pygments_lexer": "ipython3",
   "version": "3.8.5"
  }
 },
 "nbformat": 4,
 "nbformat_minor": 4
}
